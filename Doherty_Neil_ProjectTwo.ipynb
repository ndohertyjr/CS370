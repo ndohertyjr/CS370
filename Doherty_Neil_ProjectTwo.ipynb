{
 "cells": [
  {
   "cell_type": "markdown",
   "metadata": {},
   "source": [
    "# Treasure Hunt Game Notebook\n",
    "\n",
    "## Read and Review Your Starter Code\n",
    "The theme of this project is a popular treasure hunt game in which the player needs to find the treasure before the pirate does. While you will not be developing the entire game, you will write the part of the game that represents the intelligent agent, which is a pirate in this case. The pirate will try to find the optimal path to the treasure using deep Q-learning. \n",
    "\n",
    "You have been provided with two Python classes and this notebook to help you with this assignment. The first class, TreasureMaze.py, represents the environment, which includes a maze object defined as a matrix. The second class, GameExperience.py, stores the episodes – that is, all the states that come in between the initial state and the terminal state. This is later used by the agent for learning by experience, called \"exploration\". This notebook shows how to play a game. Your task is to complete the deep Q-learning implementation for which a skeleton implementation has been provided. The code blocs you will need to complete has #TODO as a header.\n",
    "\n",
    "First, read and review the next few code and instruction blocks to understand the code that you have been given."
   ]
  },
  {
   "cell_type": "code",
   "execution_count": 263,
   "metadata": {},
   "outputs": [],
   "source": [
    "from __future__ import print_function\n",
    "import os, sys, time, datetime, json, random\n",
    "import numpy as np\n",
    "from keras.models import Sequential\n",
    "from keras.layers.core import Dense, Activation\n",
    "from keras.optimizers import SGD , Adam, RMSprop\n",
    "from keras.layers.advanced_activations import PReLU\n",
    "import matplotlib.pyplot as plt\n",
    "from TreasureMaze import TreasureMaze\n",
    "from GameExperience import GameExperience\n",
    "%matplotlib inline"
   ]
  },
  {
   "cell_type": "markdown",
   "metadata": {},
   "source": [
    "The following code block contains an 8x8 matrix that will be used as a maze object:"
   ]
  },
  {
   "cell_type": "code",
   "execution_count": 264,
   "metadata": {},
   "outputs": [],
   "source": [
    "maze = np.array([\n",
    "    [ 1.,  0.,  1.,  1.,  1.,  1.,  1.,  1.],\n",
    "    [ 1.,  0.,  1.,  1.,  1.,  0.,  1.,  1.],\n",
    "    [ 1.,  1.,  1.,  1.,  0.,  1.,  0.,  1.],\n",
    "    [ 1.,  1.,  1.,  0.,  1.,  1.,  1.,  1.],\n",
    "    [ 1.,  1.,  0.,  1.,  1.,  1.,  1.,  1.],\n",
    "    [ 1.,  1.,  1.,  0.,  1.,  0.,  0.,  0.],\n",
    "    [ 1.,  1.,  1.,  0.,  1.,  1.,  1.,  1.],\n",
    "    [ 1.,  1.,  1.,  1.,  0.,  1.,  1.,  1.]\n",
    "])"
   ]
  },
  {
   "cell_type": "markdown",
   "metadata": {},
   "source": [
    "This helper function allows a visual representation of the maze object:"
   ]
  },
  {
   "cell_type": "code",
   "execution_count": 265,
   "metadata": {},
   "outputs": [],
   "source": [
    "def show(qmaze):\n",
    "    plt.grid('on')\n",
    "    nrows, ncols = qmaze.maze.shape\n",
    "    ax = plt.gca()\n",
    "    ax.set_xticks(np.arange(0.5, nrows, 1))\n",
    "    ax.set_yticks(np.arange(0.5, ncols, 1))\n",
    "    ax.set_xticklabels([])\n",
    "    ax.set_yticklabels([])\n",
    "    canvas = np.copy(qmaze.maze)\n",
    "    for row,col in qmaze.visited:\n",
    "        canvas[row,col] = 0.6\n",
    "    pirate_row, pirate_col, _ = qmaze.state\n",
    "    canvas[pirate_row, pirate_col] = 0.3   # pirate cell\n",
    "    canvas[nrows-1, ncols-1] = 0.9 # treasure cell\n",
    "    img = plt.imshow(canvas, interpolation='none', cmap='gray')\n",
    "    return img"
   ]
  },
  {
   "cell_type": "markdown",
   "metadata": {},
   "source": [
    "The pirate agent can move in four directions: left, right, up, and down. \n",
    "\n",
    "While the agent primarily learns by experience through exploitation, often, the agent can choose to explore the environment to find previously undiscovered paths. This is called \"exploration\" and is defined by epsilon. This value is typically a lower value such as 0.1, which means for every ten attempts, the agent will attempt to learn by experience nine times and will randomly explore a new path one time. You are encouraged to try various values for the exploration factor and see how the algorithm performs."
   ]
  },
  {
   "cell_type": "code",
   "execution_count": 266,
   "metadata": {},
   "outputs": [],
   "source": [
    "LEFT = 0\n",
    "UP = 1\n",
    "RIGHT = 2\n",
    "DOWN = 3\n",
    "\n",
    "\n",
    "# Exploration factor\n",
    "epsilon = 0.1\n",
    "\n",
    "# Actions dictionary\n",
    "actions_dict = {\n",
    "    LEFT: 'left',\n",
    "    UP: 'up',\n",
    "    RIGHT: 'right',\n",
    "    DOWN: 'down',\n",
    "}\n",
    "\n",
    "num_actions = len(actions_dict)\n"
   ]
  },
  {
   "cell_type": "markdown",
   "metadata": {},
   "source": [
    "The sample code block and output below show creating a maze object and performing one action (DOWN), which returns the reward. The resulting updated environment is visualized."
   ]
  },
  {
   "cell_type": "code",
   "execution_count": 267,
   "metadata": {},
   "outputs": [
    {
     "name": "stdout",
     "output_type": "stream",
     "text": [
      "reward= -0.04\n"
     ]
    },
    {
     "data": {
      "text/plain": [
       "<matplotlib.image.AxesImage at 0x1e4e3182988>"
      ]
     },
     "execution_count": 267,
     "metadata": {},
     "output_type": "execute_result"
    },
    {
     "data": {
      "image/png": "[encoded data removed]",
      "text/plain": [
       "<Figure size 432x288 with 1 Axes>"
      ]
     },
     "metadata": {
      "needs_background": "light"
     },
     "output_type": "display_data"
    }
   ],
   "source": [
    "qmaze = TreasureMaze(maze)\n",
    "canvas, reward, game_over = qmaze.act(DOWN)\n",
    "print(\"reward=\", reward)\n",
    "show(qmaze)"
   ]
  },
  {
   "cell_type": "markdown",
   "metadata": {},
   "source": [
    "This function simulates a full game based on the provided trained model. The other parameters include the TreasureMaze object and the starting position of the pirate."
   ]
  },
  {
   "cell_type": "code",
   "execution_count": 268,
   "metadata": {},
   "outputs": [],
   "source": [
    "def play_game(model, qmaze, pirate_cell):\n",
    "    qmaze.reset(pirate_cell)\n",
    "    envstate = qmaze.observe()\n",
    "    while True:\n",
    "        prev_envstate = envstate\n",
    "        # get next action\n",
    "        q = model.predict(prev_envstate)\n",
    "        action = np.argmax(q[0])\n",
    "\n",
    "        # apply action, get rewards and new state\n",
    "        envstate, reward, game_status = qmaze.act(action)\n",
    "        if game_status == 'win':\n",
    "            return True\n",
    "        elif game_status == 'lose':\n",
    "            return False"
   ]
  },
  {
   "cell_type": "markdown",
   "metadata": {},
   "source": [
    "This function helps you to determine whether the pirate can win any game at all. If your maze is not well designed, the pirate may not win any game at all. In this case, your training would not yield any result. The provided maze in this notebook ensures that there is a path to win and you can run this method to check."
   ]
  },
  {
   "cell_type": "code",
   "execution_count": 269,
   "metadata": {},
   "outputs": [],
   "source": [
    "def completion_check(model, qmaze):\n",
    "    for cell in qmaze.free_cells:\n",
    "        if not qmaze.valid_actions(cell):\n",
    "            return False\n",
    "        if not play_game(model, qmaze, cell):\n",
    "            return False\n",
    "    return True"
   ]
  },
  {
   "cell_type": "markdown",
   "metadata": {},
   "source": [
    "The code you have been given in this block will build the neural network model. Review the code and note the number of layers, as well as the activation, optimizer, and loss functions that are used to train the model."
   ]
  },
  {
   "cell_type": "code",
   "execution_count": 270,
   "metadata": {},
   "outputs": [],
   "source": [
    "def build_model(maze):\n",
    "    model = Sequential()\n",
    "    model.add(Dense(maze.size, input_shape=(maze.size,)))\n",
    "    model.add(PReLU())\n",
    "    model.add(Dense(maze.size))\n",
    "    model.add(PReLU())\n",
    "    model.add(Dense(num_actions))\n",
    "    model.compile(optimizer='adam', loss='mse')\n",
    "    return model"
   ]
  },
  {
   "cell_type": "markdown",
   "metadata": {},
   "source": [
    "# #TODO: Complete the Q-Training Algorithm Code Block\n",
    "\n",
    "This is your deep Q-learning implementation. The goal of your deep Q-learning implementation is to find the best possible navigation sequence that results in reaching the treasure cell while maximizing the reward. In your implementation, you need to determine the optimal number of epochs to achieve a 100% win rate.\n",
    "\n",
    "You will need to complete the section starting with #pseudocode. The pseudocode has been included for you."
   ]
  },
  {
   "cell_type": "code",
   "execution_count": 271,
   "metadata": {},
   "outputs": [],
   "source": [
    "def qtrain(model, maze, **opt):\n",
    "\n",
    "    # exploration factor\n",
    "    global epsilon \n",
    "\n",
    "    # number of epochs\n",
    "    n_epoch = opt.get('n_epoch', 15000)\n",
    "\n",
    "    # maximum memory to store episodes\n",
    "    max_memory = opt.get('max_memory', 1000)\n",
    "\n",
    "    # maximum data size for training\n",
    "    data_size = opt.get('data_size', 50)\n",
    "\n",
    "    # start time\n",
    "    start_time = datetime.datetime.now()\n",
    "\n",
    "    # Construct environment/game from numpy array: maze (see above)\n",
    "    qmaze = TreasureMaze(maze)\n",
    "\n",
    "    # Initialize experience replay object\n",
    "    experience = GameExperience(model, max_memory=max_memory)\n",
    "    \n",
    "    # history of win/lose game\n",
    "    win_history = []   \n",
    "    # history window size\n",
    "    hsize = qmaze.maze.size//2   \n",
    "    #initialize win rate\n",
    "    win_rate = 0.0 \n",
    "    #initialize number of epochs\n",
    "    epoch = 0\n",
    "    #set number of epochs to observe\n",
    "    NUM_EPOCHS_OBSERVE = 100\n",
    "  \n",
    "    \n",
    "    # pseudocode:\n",
    "    # For each epoch:\n",
    "    #    Agent_cell = randomly select a free cell\n",
    "    #    Reset the maze with agent set to above position\n",
    "    #    Hint: Review the reset method in the TreasureMaze.py class.\n",
    "    #    envstate = Environment.current_state\n",
    "    #    Hint: Review the observe method in the TreasureMaze.py class.\n",
    "    #    While state is not game over:\n",
    "    #        previous_envstate = envstate\n",
    "    #        Action = randomly choose action (left, right, up, down) either by exploration or by exploitation\n",
    "    #        envstate, reward, game_status = qmaze.act(action)\n",
    "    #    Hint: Review the act method in the TreasureMaze.py class.\n",
    "    #        episode = [previous_envstate, action, reward, envstate, game_status]\n",
    "    #        Store episode in Experience replay object\n",
    "    #    Hint: Review the remember method in the GameExperience.py class.\n",
    "    #        Train neural network model and evaluate loss\n",
    "    #    Hint: Call GameExperience.get_data to retrieve training data (input and target) and pass to model.fit method \n",
    "    #          to train the model. You can call model.evaluate to determine loss.\n",
    "    #    If the win rate is above the threshold and your model passes the completion check, that would be your epoch.\n",
    "    \n",
    "   #begin main loop to iterate through each epoch \n",
    "    for i in range(n_epoch):\n",
    "        #increase epoch for printing results\n",
    "        epoch += 1\n",
    "        #reset variables for episodes for the start of each epoch\n",
    "        n_episodes = 0\n",
    "        loss = 0.0\n",
    "        #Set agent starting location\n",
    "        agent_cell = random.choice(qmaze.free_cells)\n",
    "        qmaze.reset(agent_cell)\n",
    "        #capture current state\n",
    "        envstate = qmaze.observe()\n",
    "        #training loop\n",
    "        while qmaze.game_status() == 'not_over':\n",
    "            #set variable for action list\n",
    "            action_choice = qmaze.valid_actions()\n",
    "            #choose random float between 0 and 1 to determine if agent will exploit or explore\n",
    "            random_num = random.uniform(0.0, 1.0)\n",
    "            #store state for remember function\n",
    "            previous_envstate = envstate\n",
    "            #observation phase\n",
    "            if i <= NUM_EPOCHS_OBSERVE:\n",
    "                #choose random action if in observation phase\n",
    "                action = random.choice(action_choice)\n",
    "            #choose exploration or exploitation\n",
    "            else:\n",
    "                #exploit\n",
    "                if random_num > epsilon:\n",
    "                    #use neural network to determine q values\n",
    "                    q = model.predict(envstate)\n",
    "                    #set action to highest q value\n",
    "                    action = np.argmax(q[0])\n",
    "                #explore\n",
    "                else:\n",
    "                    #choose random action to explore\n",
    "                    action = random.choice(action_choice)\n",
    "            #store action results\n",
    "            envstate, reward, game_status = qmaze.act(action) \n",
    "            #store episode results\n",
    "            episode = (previous_envstate, action, reward, envstate, game_status)\n",
    "            #store action results to learn from\n",
    "            experience.remember(episode)\n",
    "            #training phase\n",
    "            if i > NUM_EPOCHS_OBSERVE:\n",
    "                #store experience data from a mini batch\n",
    "                inputs, targets = experience.get_data(data_size = data_size)\n",
    "                #use experience to train the network\n",
    "                game_history = model.fit(inputs, targets, epochs = 8, batch_size = 10, verbose = 0)\n",
    "                #calculate loss for the epoch\n",
    "                loss += model.evaluate(inputs, targets, verbose = 0)    \n",
    "            #add wins to win history\n",
    "            if game_status == 'win':\n",
    "                win_history.append(1)\n",
    "            #add loss to win history\n",
    "            elif game_status == 'lose':\n",
    "                win_history.append(0)\n",
    "            \n",
    "            #increment the episode number\n",
    "            n_episodes += 1\n",
    "      \n",
    "        \n",
    "        #determine win rate from total wins divide by number of epochs\n",
    "        win_rate = sum(win_history) / epoch\n",
    "        \n",
    "    #Print the epoch, loss, episodes, win count, and win rate for each epoch\n",
    "        dt = datetime.datetime.now() - start_time\n",
    "        t = format_time(dt.total_seconds())\n",
    "        template = \"Epoch: {:03d}/{:d} | Loss: {:.4f} | Episodes: {:d} | Win count: {:d} | Win rate: {:.3f} | time: {}\"\n",
    "        print(template.format(epoch, n_epoch-1, loss, n_episodes, sum(win_history), win_rate, t))\n",
    "        # We simply check if training has exhausted all free cells and if in all\n",
    "        # cases the agent won.\n",
    "        if win_rate > 0.9 : epsilon = 0.05\n",
    "        if sum(win_history[-hsize:]) == hsize and completion_check(model, qmaze):\n",
    "            print(\"Reached 100%% win rate at epoch: %d\" % (epoch,))\n",
    "            break\n",
    "    \n",
    "    \n",
    "    # Determine the total time for training\n",
    "    dt = datetime.datetime.now() - start_time\n",
    "    seconds = dt.total_seconds()\n",
    "    t = format_time(seconds)\n",
    "\n",
    "    print(\"n_epoch: %d, max_mem: %d, data: %d, time: %s\" % (epoch, max_memory, data_size, t))\n",
    "    return seconds\n",
    "\n",
    "# This is a small utility for printing readable time strings:\n",
    "def format_time(seconds):\n",
    "    if seconds < 400:\n",
    "        s = float(seconds)\n",
    "        return \"%.1f seconds\" % (s,)\n",
    "    elif seconds < 4000:\n",
    "        m = seconds / 60.0\n",
    "        return \"%.2f minutes\" % (m,)\n",
    "    else:\n",
    "        h = seconds / 3600.0\n",
    "        return \"%.2f hours\" % (h,)"
   ]
  },
  {
   "cell_type": "markdown",
   "metadata": {},
   "source": [
    "## Test Your Model\n",
    "\n",
    "Now we will start testing the deep Q-learning implementation. To begin, select **Cell**, then **Run All** from the menu bar. This will run your notebook. As it runs, you should see output begin to appear beneath the next few cells. The code below creates an instance of TreasureMaze."
   ]
  },
  {
   "cell_type": "code",
   "execution_count": 272,
   "metadata": {},
   "outputs": [
    {
     "data": {
      "text/plain": [
       "<matplotlib.image.AxesImage at 0x1e4e31e9308>"
      ]
     },
     "execution_count": 272,
     "metadata": {},
     "output_type": "execute_result"
    },
    {
     "data": {
      "image/png": "[encoded data removed]",
      "text/plain": [
       "<Figure size 432x288 with 1 Axes>"
      ]
     },
     "metadata": {
      "needs_background": "light"
     },
     "output_type": "display_data"
    }
   ],
   "source": [
    "qmaze = TreasureMaze(maze)\n",
    "show(qmaze)"
   ]
  },
  {
   "cell_type": "markdown",
   "metadata": {},
   "source": [
    "In the next code block, you will build your model and train it using deep Q-learning. Note: This step takes several minutes to fully run."
   ]
  },
  {
   "cell_type": "code",
   "execution_count": 273,
   "metadata": {
    "scrolled": false
   },
   "outputs": [
    {
     "name": "stdout",
     "output_type": "stream",
     "text": [
      "Epoch: 001/14999 | Loss: 0.0000 | Episodes: 144 | Win count: 0 | Win rate: 0.000 | time: 0.0 seconds\n",
      "Epoch: 002/14999 | Loss: 0.0000 | Episodes: 143 | Win count: 0 | Win rate: 0.000 | time: 0.0 seconds\n",
      "Epoch: 003/14999 | Loss: 0.0000 | Episodes: 144 | Win count: 0 | Win rate: 0.000 | time: 0.1 seconds\n",
      "Epoch: 004/14999 | Loss: 0.0000 | Episodes: 1 | Win count: 1 | Win rate: 0.250 | time: 0.1 seconds\n",
      "Epoch: 005/14999 | Loss: 0.0000 | Episodes: 153 | Win count: 1 | Win rate: 0.200 | time: 0.1 seconds\n",
      "Epoch: 006/14999 | Loss: 0.0000 | Episodes: 146 | Win count: 1 | Win rate: 0.167 | time: 0.1 seconds\n",
      "Epoch: 007/14999 | Loss: 0.0000 | Episodes: 149 | Win count: 1 | Win rate: 0.143 | time: 0.1 seconds\n",
      "Epoch: 008/14999 | Loss: 0.0000 | Episodes: 149 | Win count: 1 | Win rate: 0.125 | time: 0.1 seconds\n",
      "Epoch: 009/14999 | Loss: 0.0000 | Episodes: 139 | Win count: 1 | Win rate: 0.111 | time: 0.1 seconds\n",
      "Epoch: 010/14999 | Loss: 0.0000 | Episodes: 144 | Win count: 1 | Win rate: 0.100 | time: 0.1 seconds\n",
      "Epoch: 011/14999 | Loss: 0.0000 | Episodes: 38 | Win count: 2 | Win rate: 0.182 | time: 0.1 seconds\n",
      "Epoch: 012/14999 | Loss: 0.0000 | Episodes: 141 | Win count: 2 | Win rate: 0.167 | time: 0.1 seconds\n",
      "Epoch: 013/14999 | Loss: 0.0000 | Episodes: 141 | Win count: 2 | Win rate: 0.154 | time: 0.1 seconds\n",
      "Epoch: 014/14999 | Loss: 0.0000 | Episodes: 144 | Win count: 2 | Win rate: 0.143 | time: 0.1 seconds\n",
      "Epoch: 015/14999 | Loss: 0.0000 | Episodes: 141 | Win count: 2 | Win rate: 0.133 | time: 0.1 seconds\n",
      "Epoch: 016/14999 | Loss: 0.0000 | Episodes: 145 | Win count: 2 | Win rate: 0.125 | time: 0.1 seconds\n",
      "Epoch: 017/14999 | Loss: 0.0000 | Episodes: 157 | Win count: 2 | Win rate: 0.118 | time: 0.1 seconds\n",
      "Epoch: 018/14999 | Loss: 0.0000 | Episodes: 146 | Win count: 2 | Win rate: 0.111 | time: 0.2 seconds\n",
      "Epoch: 019/14999 | Loss: 0.0000 | Episodes: 15 | Win count: 3 | Win rate: 0.158 | time: 0.2 seconds\n",
      "Epoch: 020/14999 | Loss: 0.0000 | Episodes: 9 | Win count: 4 | Win rate: 0.200 | time: 0.2 seconds\n",
      "Epoch: 021/14999 | Loss: 0.0000 | Episodes: 157 | Win count: 4 | Win rate: 0.190 | time: 0.2 seconds\n",
      "Epoch: 022/14999 | Loss: 0.0000 | Episodes: 148 | Win count: 4 | Win rate: 0.182 | time: 0.2 seconds\n",
      "Epoch: 023/14999 | Loss: 0.0000 | Episodes: 57 | Win count: 5 | Win rate: 0.217 | time: 0.2 seconds\n",
      "Epoch: 024/14999 | Loss: 0.0000 | Episodes: 153 | Win count: 5 | Win rate: 0.208 | time: 0.2 seconds\n",
      "Epoch: 025/14999 | Loss: 0.0000 | Episodes: 155 | Win count: 5 | Win rate: 0.200 | time: 0.2 seconds\n",
      "Epoch: 026/14999 | Loss: 0.0000 | Episodes: 141 | Win count: 5 | Win rate: 0.192 | time: 0.2 seconds\n",
      "Epoch: 027/14999 | Loss: 0.0000 | Episodes: 88 | Win count: 6 | Win rate: 0.222 | time: 0.2 seconds\n",
      "Epoch: 028/14999 | Loss: 0.0000 | Episodes: 1 | Win count: 7 | Win rate: 0.250 | time: 0.2 seconds\n",
      "Epoch: 029/14999 | Loss: 0.0000 | Episodes: 147 | Win count: 7 | Win rate: 0.241 | time: 0.2 seconds\n",
      "Epoch: 030/14999 | Loss: 0.0000 | Episodes: 152 | Win count: 8 | Win rate: 0.267 | time: 0.3 seconds\n",
      "Epoch: 031/14999 | Loss: 0.0000 | Episodes: 96 | Win count: 9 | Win rate: 0.290 | time: 0.3 seconds\n",
      "Epoch: 032/14999 | Loss: 0.0000 | Episodes: 148 | Win count: 9 | Win rate: 0.281 | time: 0.3 seconds\n",
      "Epoch: 033/14999 | Loss: 0.0000 | Episodes: 143 | Win count: 9 | Win rate: 0.273 | time: 0.3 seconds\n",
      "Epoch: 034/14999 | Loss: 0.0000 | Episodes: 139 | Win count: 9 | Win rate: 0.265 | time: 0.3 seconds\n",
      "Epoch: 035/14999 | Loss: 0.0000 | Episodes: 143 | Win count: 9 | Win rate: 0.257 | time: 0.3 seconds\n",
      "Epoch: 036/14999 | Loss: 0.0000 | Episodes: 127 | Win count: 10 | Win rate: 0.278 | time: 0.3 seconds\n",
      "Epoch: 037/14999 | Loss: 0.0000 | Episodes: 139 | Win count: 10 | Win rate: 0.270 | time: 0.3 seconds\n",
      "Epoch: 038/14999 | Loss: 0.0000 | Episodes: 149 | Win count: 10 | Win rate: 0.263 | time: 0.3 seconds\n",
      "Epoch: 039/14999 | Loss: 0.0000 | Episodes: 99 | Win count: 11 | Win rate: 0.282 | time: 0.3 seconds\n",
      "Epoch: 040/14999 | Loss: 0.0000 | Episodes: 143 | Win count: 11 | Win rate: 0.275 | time: 0.3 seconds\n",
      "Epoch: 041/14999 | Loss: 0.0000 | Episodes: 148 | Win count: 11 | Win rate: 0.268 | time: 0.3 seconds\n",
      "Epoch: 042/14999 | Loss: 0.0000 | Episodes: 159 | Win count: 11 | Win rate: 0.262 | time: 0.4 seconds\n",
      "Epoch: 043/14999 | Loss: 0.0000 | Episodes: 143 | Win count: 11 | Win rate: 0.256 | time: 0.4 seconds\n",
      "Epoch: 044/14999 | Loss: 0.0000 | Episodes: 143 | Win count: 11 | Win rate: 0.250 | time: 0.4 seconds\n",
      "Epoch: 045/14999 | Loss: 0.0000 | Episodes: 148 | Win count: 11 | Win rate: 0.244 | time: 0.4 seconds\n",
      "Epoch: 046/14999 | Loss: 0.0000 | Episodes: 147 | Win count: 11 | Win rate: 0.239 | time: 0.4 seconds\n",
      "Epoch: 047/14999 | Loss: 0.0000 | Episodes: 153 | Win count: 11 | Win rate: 0.234 | time: 0.4 seconds\n",
      "Epoch: 048/14999 | Loss: 0.0000 | Episodes: 49 | Win count: 12 | Win rate: 0.250 | time: 0.4 seconds\n",
      "Epoch: 049/14999 | Loss: 0.0000 | Episodes: 144 | Win count: 12 | Win rate: 0.245 | time: 0.4 seconds\n",
      "Epoch: 050/14999 | Loss: 0.0000 | Episodes: 150 | Win count: 12 | Win rate: 0.240 | time: 0.4 seconds\n",
      "Epoch: 051/14999 | Loss: 0.0000 | Episodes: 157 | Win count: 12 | Win rate: 0.235 | time: 0.5 seconds\n",
      "Epoch: 052/14999 | Loss: 0.0000 | Episodes: 12 | Win count: 13 | Win rate: 0.250 | time: 0.5 seconds\n",
      "Epoch: 053/14999 | Loss: 0.0000 | Episodes: 139 | Win count: 13 | Win rate: 0.245 | time: 0.5 seconds\n",
      "Epoch: 054/14999 | Loss: 0.0000 | Episodes: 32 | Win count: 14 | Win rate: 0.259 | time: 0.5 seconds\n",
      "Epoch: 055/14999 | Loss: 0.0000 | Episodes: 147 | Win count: 14 | Win rate: 0.255 | time: 0.5 seconds\n",
      "Epoch: 056/14999 | Loss: 0.0000 | Episodes: 147 | Win count: 14 | Win rate: 0.250 | time: 0.5 seconds\n",
      "Epoch: 057/14999 | Loss: 0.0000 | Episodes: 68 | Win count: 15 | Win rate: 0.263 | time: 0.5 seconds\n",
      "Epoch: 058/14999 | Loss: 0.0000 | Episodes: 85 | Win count: 16 | Win rate: 0.276 | time: 0.5 seconds\n",
      "Epoch: 059/14999 | Loss: 0.0000 | Episodes: 161 | Win count: 16 | Win rate: 0.271 | time: 0.5 seconds\n",
      "Epoch: 060/14999 | Loss: 0.0000 | Episodes: 144 | Win count: 16 | Win rate: 0.267 | time: 0.5 seconds\n",
      "Epoch: 061/14999 | Loss: 0.0000 | Episodes: 147 | Win count: 16 | Win rate: 0.262 | time: 0.5 seconds\n",
      "Epoch: 062/14999 | Loss: 0.0000 | Episodes: 155 | Win count: 16 | Win rate: 0.258 | time: 0.5 seconds\n",
      "Epoch: 063/14999 | Loss: 0.0000 | Episodes: 39 | Win count: 17 | Win rate: 0.270 | time: 0.5 seconds\n",
      "Epoch: 064/14999 | Loss: 0.0000 | Episodes: 153 | Win count: 17 | Win rate: 0.266 | time: 0.5 seconds\n",
      "Epoch: 065/14999 | Loss: 0.0000 | Episodes: 146 | Win count: 17 | Win rate: 0.262 | time: 0.5 seconds\n",
      "Epoch: 066/14999 | Loss: 0.0000 | Episodes: 1 | Win count: 18 | Win rate: 0.273 | time: 0.5 seconds\n",
      "Epoch: 067/14999 | Loss: 0.0000 | Episodes: 150 | Win count: 18 | Win rate: 0.269 | time: 0.6 seconds\n",
      "Epoch: 068/14999 | Loss: 0.0000 | Episodes: 150 | Win count: 18 | Win rate: 0.265 | time: 0.6 seconds\n",
      "Epoch: 069/14999 | Loss: 0.0000 | Episodes: 145 | Win count: 18 | Win rate: 0.261 | time: 0.6 seconds\n",
      "Epoch: 070/14999 | Loss: 0.0000 | Episodes: 143 | Win count: 18 | Win rate: 0.257 | time: 0.6 seconds\n",
      "Epoch: 071/14999 | Loss: 0.0000 | Episodes: 143 | Win count: 18 | Win rate: 0.254 | time: 0.6 seconds\n",
      "Epoch: 072/14999 | Loss: 0.0000 | Episodes: 148 | Win count: 18 | Win rate: 0.250 | time: 0.6 seconds\n",
      "Epoch: 073/14999 | Loss: 0.0000 | Episodes: 150 | Win count: 18 | Win rate: 0.247 | time: 0.6 seconds\n",
      "Epoch: 074/14999 | Loss: 0.0000 | Episodes: 145 | Win count: 18 | Win rate: 0.243 | time: 0.6 seconds\n",
      "Epoch: 075/14999 | Loss: 0.0000 | Episodes: 150 | Win count: 18 | Win rate: 0.240 | time: 0.6 seconds\n",
      "Epoch: 076/14999 | Loss: 0.0000 | Episodes: 33 | Win count: 19 | Win rate: 0.250 | time: 0.6 seconds\n",
      "Epoch: 077/14999 | Loss: 0.0000 | Episodes: 140 | Win count: 19 | Win rate: 0.247 | time: 0.6 seconds\n",
      "Epoch: 078/14999 | Loss: 0.0000 | Episodes: 149 | Win count: 19 | Win rate: 0.244 | time: 0.6 seconds\n",
      "Epoch: 079/14999 | Loss: 0.0000 | Episodes: 155 | Win count: 19 | Win rate: 0.241 | time: 0.6 seconds\n",
      "Epoch: 080/14999 | Loss: 0.0000 | Episodes: 159 | Win count: 19 | Win rate: 0.237 | time: 0.6 seconds\n",
      "Epoch: 081/14999 | Loss: 0.0000 | Episodes: 158 | Win count: 19 | Win rate: 0.235 | time: 0.6 seconds\n",
      "Epoch: 082/14999 | Loss: 0.0000 | Episodes: 157 | Win count: 19 | Win rate: 0.232 | time: 0.7 seconds\n",
      "Epoch: 083/14999 | Loss: 0.0000 | Episodes: 150 | Win count: 19 | Win rate: 0.229 | time: 0.7 seconds\n",
      "Epoch: 084/14999 | Loss: 0.0000 | Episodes: 151 | Win count: 19 | Win rate: 0.226 | time: 0.7 seconds\n",
      "Epoch: 085/14999 | Loss: 0.0000 | Episodes: 152 | Win count: 19 | Win rate: 0.224 | time: 0.7 seconds\n",
      "Epoch: 086/14999 | Loss: 0.0000 | Episodes: 148 | Win count: 19 | Win rate: 0.221 | time: 0.7 seconds\n",
      "Epoch: 087/14999 | Loss: 0.0000 | Episodes: 150 | Win count: 19 | Win rate: 0.218 | time: 0.7 seconds\n",
      "Epoch: 088/14999 | Loss: 0.0000 | Episodes: 144 | Win count: 19 | Win rate: 0.216 | time: 0.7 seconds\n",
      "Epoch: 089/14999 | Loss: 0.0000 | Episodes: 148 | Win count: 19 | Win rate: 0.213 | time: 0.7 seconds\n"
     ]
    },
    {
     "name": "stdout",
     "output_type": "stream",
     "text": [
      "Epoch: 090/14999 | Loss: 0.0000 | Episodes: 142 | Win count: 19 | Win rate: 0.211 | time: 0.7 seconds\n",
      "Epoch: 091/14999 | Loss: 0.0000 | Episodes: 149 | Win count: 19 | Win rate: 0.209 | time: 0.7 seconds\n",
      "Epoch: 092/14999 | Loss: 0.0000 | Episodes: 140 | Win count: 19 | Win rate: 0.207 | time: 0.7 seconds\n",
      "Epoch: 093/14999 | Loss: 0.0000 | Episodes: 150 | Win count: 19 | Win rate: 0.204 | time: 0.7 seconds\n",
      "Epoch: 094/14999 | Loss: 0.0000 | Episodes: 61 | Win count: 20 | Win rate: 0.213 | time: 0.7 seconds\n",
      "Epoch: 095/14999 | Loss: 0.0000 | Episodes: 149 | Win count: 20 | Win rate: 0.211 | time: 0.7 seconds\n",
      "Epoch: 096/14999 | Loss: 0.0000 | Episodes: 156 | Win count: 20 | Win rate: 0.208 | time: 0.8 seconds\n",
      "Epoch: 097/14999 | Loss: 0.0000 | Episodes: 5 | Win count: 21 | Win rate: 0.216 | time: 0.8 seconds\n",
      "Epoch: 098/14999 | Loss: 0.0000 | Episodes: 148 | Win count: 21 | Win rate: 0.214 | time: 0.8 seconds\n",
      "Epoch: 099/14999 | Loss: 0.0000 | Episodes: 151 | Win count: 21 | Win rate: 0.212 | time: 0.8 seconds\n",
      "Epoch: 100/14999 | Loss: 0.0000 | Episodes: 151 | Win count: 21 | Win rate: 0.210 | time: 0.8 seconds\n",
      "Epoch: 101/14999 | Loss: 0.0000 | Episodes: 139 | Win count: 21 | Win rate: 0.208 | time: 0.8 seconds\n",
      "Epoch: 102/14999 | Loss: 0.2396 | Episodes: 144 | Win count: 21 | Win rate: 0.206 | time: 14.0 seconds\n",
      "Epoch: 103/14999 | Loss: 0.1790 | Episodes: 148 | Win count: 21 | Win rate: 0.204 | time: 26.1 seconds\n",
      "Epoch: 104/14999 | Loss: 0.0628 | Episodes: 54 | Win count: 22 | Win rate: 0.212 | time: 30.6 seconds\n",
      "Epoch: 105/14999 | Loss: 0.0305 | Episodes: 7 | Win count: 23 | Win rate: 0.219 | time: 31.2 seconds\n",
      "Epoch: 106/14999 | Loss: 0.3861 | Episodes: 147 | Win count: 23 | Win rate: 0.217 | time: 43.7 seconds\n",
      "Epoch: 107/14999 | Loss: 0.2381 | Episodes: 133 | Win count: 24 | Win rate: 0.224 | time: 54.8 seconds\n",
      "Epoch: 108/14999 | Loss: 0.1322 | Episodes: 70 | Win count: 25 | Win rate: 0.231 | time: 60.5 seconds\n",
      "Epoch: 109/14999 | Loss: 0.0147 | Episodes: 13 | Win count: 26 | Win rate: 0.239 | time: 61.5 seconds\n",
      "Epoch: 110/14999 | Loss: 0.0234 | Episodes: 10 | Win count: 27 | Win rate: 0.245 | time: 62.7 seconds\n",
      "Epoch: 111/14999 | Loss: 0.1900 | Episodes: 84 | Win count: 28 | Win rate: 0.252 | time: 69.8 seconds\n",
      "Epoch: 112/14999 | Loss: 0.0242 | Episodes: 16 | Win count: 29 | Win rate: 0.259 | time: 71.2 seconds\n",
      "Epoch: 113/14999 | Loss: 0.0865 | Episodes: 63 | Win count: 30 | Win rate: 0.265 | time: 76.8 seconds\n",
      "Epoch: 114/14999 | Loss: 0.0090 | Episodes: 10 | Win count: 31 | Win rate: 0.272 | time: 77.6 seconds\n",
      "Epoch: 115/14999 | Loss: 0.0275 | Episodes: 26 | Win count: 32 | Win rate: 0.278 | time: 79.7 seconds\n",
      "Epoch: 116/14999 | Loss: 0.0179 | Episodes: 15 | Win count: 33 | Win rate: 0.284 | time: 81.0 seconds\n",
      "Epoch: 117/14999 | Loss: 0.1623 | Episodes: 140 | Win count: 33 | Win rate: 0.282 | time: 92.4 seconds\n",
      "Epoch: 118/14999 | Loss: 0.0234 | Episodes: 24 | Win count: 34 | Win rate: 0.288 | time: 94.3 seconds\n",
      "Epoch: 119/14999 | Loss: 0.0162 | Episodes: 18 | Win count: 35 | Win rate: 0.294 | time: 95.8 seconds\n",
      "Epoch: 120/14999 | Loss: 0.0122 | Episodes: 14 | Win count: 36 | Win rate: 0.300 | time: 97.0 seconds\n",
      "Epoch: 121/14999 | Loss: 0.0650 | Episodes: 65 | Win count: 37 | Win rate: 0.306 | time: 102.6 seconds\n",
      "Epoch: 122/14999 | Loss: 0.0161 | Episodes: 20 | Win count: 38 | Win rate: 0.311 | time: 104.3 seconds\n",
      "Epoch: 123/14999 | Loss: 0.0057 | Episodes: 5 | Win count: 39 | Win rate: 0.317 | time: 104.7 seconds\n",
      "Epoch: 124/14999 | Loss: 0.0337 | Episodes: 35 | Win count: 40 | Win rate: 0.323 | time: 107.6 seconds\n",
      "Epoch: 125/14999 | Loss: 0.0260 | Episodes: 26 | Win count: 41 | Win rate: 0.328 | time: 109.7 seconds\n",
      "Epoch: 126/14999 | Loss: 0.0080 | Episodes: 8 | Win count: 42 | Win rate: 0.333 | time: 110.6 seconds\n",
      "Epoch: 127/14999 | Loss: 0.0326 | Episodes: 34 | Win count: 43 | Win rate: 0.339 | time: 113.7 seconds\n",
      "Epoch: 128/14999 | Loss: 0.0268 | Episodes: 21 | Win count: 44 | Win rate: 0.344 | time: 115.7 seconds\n",
      "Epoch: 129/14999 | Loss: 0.0004 | Episodes: 1 | Win count: 45 | Win rate: 0.349 | time: 115.8 seconds\n",
      "Epoch: 130/14999 | Loss: 0.0095 | Episodes: 9 | Win count: 46 | Win rate: 0.354 | time: 116.6 seconds\n",
      "Epoch: 131/14999 | Loss: 0.0121 | Episodes: 15 | Win count: 47 | Win rate: 0.359 | time: 118.0 seconds\n",
      "Epoch: 132/14999 | Loss: 0.0039 | Episodes: 8 | Win count: 48 | Win rate: 0.364 | time: 118.7 seconds\n",
      "Epoch: 133/14999 | Loss: 0.0005 | Episodes: 1 | Win count: 49 | Win rate: 0.368 | time: 118.8 seconds\n",
      "Epoch: 134/14999 | Loss: 0.0136 | Episodes: 18 | Win count: 50 | Win rate: 0.373 | time: 120.3 seconds\n",
      "Epoch: 135/14999 | Loss: 0.0317 | Episodes: 40 | Win count: 51 | Win rate: 0.378 | time: 123.6 seconds\n",
      "Epoch: 136/14999 | Loss: 0.0374 | Episodes: 41 | Win count: 52 | Win rate: 0.382 | time: 127.0 seconds\n",
      "Epoch: 137/14999 | Loss: 0.0397 | Episodes: 17 | Win count: 53 | Win rate: 0.387 | time: 128.4 seconds\n",
      "Epoch: 138/14999 | Loss: 0.0596 | Episodes: 45 | Win count: 54 | Win rate: 0.391 | time: 132.1 seconds\n",
      "Epoch: 139/14999 | Loss: 0.0732 | Episodes: 65 | Win count: 55 | Win rate: 0.396 | time: 137.5 seconds\n",
      "Epoch: 140/14999 | Loss: 0.0649 | Episodes: 49 | Win count: 56 | Win rate: 0.400 | time: 141.5 seconds\n",
      "Epoch: 141/14999 | Loss: 0.0278 | Episodes: 25 | Win count: 57 | Win rate: 0.404 | time: 143.5 seconds\n",
      "Epoch: 142/14999 | Loss: 0.0512 | Episodes: 45 | Win count: 58 | Win rate: 0.408 | time: 147.1 seconds\n",
      "Epoch: 143/14999 | Loss: 0.0161 | Episodes: 19 | Win count: 59 | Win rate: 0.413 | time: 148.7 seconds\n",
      "Epoch: 144/14999 | Loss: 0.0243 | Episodes: 21 | Win count: 60 | Win rate: 0.417 | time: 150.4 seconds\n",
      "Epoch: 145/14999 | Loss: 0.0117 | Episodes: 11 | Win count: 61 | Win rate: 0.421 | time: 151.3 seconds\n",
      "Epoch: 146/14999 | Loss: 0.0282 | Episodes: 28 | Win count: 62 | Win rate: 0.425 | time: 153.5 seconds\n",
      "Epoch: 147/14999 | Loss: 0.0086 | Episodes: 8 | Win count: 63 | Win rate: 0.429 | time: 154.2 seconds\n",
      "Epoch: 148/14999 | Loss: 0.0211 | Episodes: 26 | Win count: 64 | Win rate: 0.432 | time: 156.3 seconds\n",
      "Epoch: 149/14999 | Loss: 0.0155 | Episodes: 20 | Win count: 65 | Win rate: 0.436 | time: 158.0 seconds\n",
      "Epoch: 150/14999 | Loss: 0.0176 | Episodes: 21 | Win count: 66 | Win rate: 0.440 | time: 159.7 seconds\n",
      "Epoch: 151/14999 | Loss: 0.0585 | Episodes: 69 | Win count: 67 | Win rate: 0.444 | time: 165.5 seconds\n",
      "Epoch: 152/14999 | Loss: 0.0148 | Episodes: 23 | Win count: 68 | Win rate: 0.447 | time: 167.5 seconds\n",
      "Epoch: 153/14999 | Loss: 0.0160 | Episodes: 18 | Win count: 69 | Win rate: 0.451 | time: 169.0 seconds\n",
      "Epoch: 154/14999 | Loss: 0.0284 | Episodes: 36 | Win count: 70 | Win rate: 0.455 | time: 172.0 seconds\n",
      "Epoch: 155/14999 | Loss: 0.0303 | Episodes: 21 | Win count: 71 | Win rate: 0.458 | time: 173.8 seconds\n",
      "Epoch: 156/14999 | Loss: 0.0295 | Episodes: 34 | Win count: 72 | Win rate: 0.462 | time: 176.6 seconds\n",
      "Epoch: 157/14999 | Loss: 0.0324 | Episodes: 37 | Win count: 73 | Win rate: 0.465 | time: 179.8 seconds\n",
      "Epoch: 158/14999 | Loss: 0.0098 | Episodes: 12 | Win count: 74 | Win rate: 0.468 | time: 180.8 seconds\n",
      "Epoch: 159/14999 | Loss: 0.0238 | Episodes: 30 | Win count: 75 | Win rate: 0.472 | time: 183.3 seconds\n",
      "Epoch: 160/14999 | Loss: 0.0043 | Episodes: 7 | Win count: 76 | Win rate: 0.475 | time: 184.0 seconds\n",
      "Epoch: 161/14999 | Loss: 0.0126 | Episodes: 17 | Win count: 77 | Win rate: 0.478 | time: 185.7 seconds\n",
      "Epoch: 162/14999 | Loss: 0.0108 | Episodes: 12 | Win count: 78 | Win rate: 0.481 | time: 186.7 seconds\n",
      "Epoch: 163/14999 | Loss: 0.0120 | Episodes: 12 | Win count: 79 | Win rate: 0.485 | time: 187.8 seconds\n",
      "Epoch: 164/14999 | Loss: 0.0043 | Episodes: 4 | Win count: 80 | Win rate: 0.488 | time: 188.2 seconds\n",
      "Epoch: 165/14999 | Loss: 0.0012 | Episodes: 2 | Win count: 81 | Win rate: 0.491 | time: 188.5 seconds\n",
      "Epoch: 166/14999 | Loss: 0.0052 | Episodes: 8 | Win count: 82 | Win rate: 0.494 | time: 189.3 seconds\n",
      "Epoch: 167/14999 | Loss: 0.0077 | Episodes: 11 | Win count: 83 | Win rate: 0.497 | time: 190.3 seconds\n",
      "Epoch: 168/14999 | Loss: 0.0160 | Episodes: 22 | Win count: 84 | Win rate: 0.500 | time: 192.1 seconds\n",
      "Epoch: 169/14999 | Loss: 0.0358 | Episodes: 36 | Win count: 85 | Win rate: 0.503 | time: 195.2 seconds\n"
     ]
    },
    {
     "name": "stdout",
     "output_type": "stream",
     "text": [
      "Epoch: 170/14999 | Loss: 0.0427 | Episodes: 43 | Win count: 86 | Win rate: 0.506 | time: 198.8 seconds\n",
      "Epoch: 171/14999 | Loss: 0.0014 | Episodes: 1 | Win count: 87 | Win rate: 0.509 | time: 198.9 seconds\n",
      "Epoch: 172/14999 | Loss: 0.0337 | Episodes: 37 | Win count: 88 | Win rate: 0.512 | time: 202.0 seconds\n",
      "Epoch: 173/14999 | Loss: 0.0035 | Episodes: 3 | Win count: 89 | Win rate: 0.514 | time: 202.3 seconds\n",
      "Epoch: 174/14999 | Loss: 0.0127 | Episodes: 14 | Win count: 90 | Win rate: 0.517 | time: 203.5 seconds\n",
      "Epoch: 175/14999 | Loss: 0.0487 | Episodes: 36 | Win count: 91 | Win rate: 0.520 | time: 206.6 seconds\n",
      "Epoch: 176/14999 | Loss: 0.0299 | Episodes: 35 | Win count: 92 | Win rate: 0.523 | time: 209.5 seconds\n",
      "Epoch: 177/14999 | Loss: 0.0389 | Episodes: 43 | Win count: 93 | Win rate: 0.525 | time: 213.3 seconds\n",
      "Epoch: 178/14999 | Loss: 0.0025 | Episodes: 3 | Win count: 94 | Win rate: 0.528 | time: 213.7 seconds\n",
      "Epoch: 179/14999 | Loss: 0.0203 | Episodes: 21 | Win count: 95 | Win rate: 0.531 | time: 215.5 seconds\n",
      "Epoch: 180/14999 | Loss: 0.0136 | Episodes: 11 | Win count: 96 | Win rate: 0.533 | time: 216.5 seconds\n",
      "Epoch: 181/14999 | Loss: 0.0255 | Episodes: 23 | Win count: 97 | Win rate: 0.536 | time: 218.5 seconds\n",
      "Epoch: 182/14999 | Loss: 0.0051 | Episodes: 5 | Win count: 98 | Win rate: 0.538 | time: 219.3 seconds\n",
      "Epoch: 183/14999 | Loss: 0.0256 | Episodes: 30 | Win count: 99 | Win rate: 0.541 | time: 221.8 seconds\n",
      "Epoch: 184/14999 | Loss: 0.0336 | Episodes: 36 | Win count: 100 | Win rate: 0.543 | time: 224.8 seconds\n",
      "Epoch: 185/14999 | Loss: 0.0181 | Episodes: 26 | Win count: 101 | Win rate: 0.546 | time: 227.0 seconds\n",
      "Epoch: 186/14999 | Loss: 0.0110 | Episodes: 13 | Win count: 102 | Win rate: 0.548 | time: 228.1 seconds\n",
      "Epoch: 187/14999 | Loss: 0.0402 | Episodes: 47 | Win count: 103 | Win rate: 0.551 | time: 232.0 seconds\n",
      "Epoch: 188/14999 | Loss: 0.0260 | Episodes: 27 | Win count: 104 | Win rate: 0.553 | time: 234.4 seconds\n",
      "Epoch: 189/14999 | Loss: 0.0111 | Episodes: 9 | Win count: 105 | Win rate: 0.556 | time: 235.2 seconds\n",
      "Epoch: 190/14999 | Loss: 0.0151 | Episodes: 14 | Win count: 106 | Win rate: 0.558 | time: 236.4 seconds\n",
      "Epoch: 191/14999 | Loss: 0.0107 | Episodes: 11 | Win count: 107 | Win rate: 0.560 | time: 237.6 seconds\n",
      "Epoch: 192/14999 | Loss: 0.0174 | Episodes: 19 | Win count: 108 | Win rate: 0.562 | time: 239.2 seconds\n",
      "Epoch: 193/14999 | Loss: 0.0484 | Episodes: 51 | Win count: 109 | Win rate: 0.565 | time: 243.8 seconds\n",
      "Epoch: 194/14999 | Loss: 0.0010 | Episodes: 1 | Win count: 110 | Win rate: 0.567 | time: 243.9 seconds\n",
      "Epoch: 195/14999 | Loss: 0.0371 | Episodes: 35 | Win count: 111 | Win rate: 0.569 | time: 246.9 seconds\n",
      "Epoch: 196/14999 | Loss: 0.0279 | Episodes: 23 | Win count: 112 | Win rate: 0.571 | time: 248.8 seconds\n",
      "Epoch: 197/14999 | Loss: 0.0007 | Episodes: 1 | Win count: 113 | Win rate: 0.574 | time: 249.0 seconds\n",
      "Epoch: 198/14999 | Loss: 0.0706 | Episodes: 57 | Win count: 114 | Win rate: 0.576 | time: 253.7 seconds\n",
      "Epoch: 199/14999 | Loss: 0.0083 | Episodes: 8 | Win count: 115 | Win rate: 0.578 | time: 254.5 seconds\n",
      "Epoch: 200/14999 | Loss: 0.0075 | Episodes: 8 | Win count: 116 | Win rate: 0.580 | time: 255.2 seconds\n",
      "Epoch: 201/14999 | Loss: 0.0112 | Episodes: 11 | Win count: 117 | Win rate: 0.582 | time: 256.2 seconds\n",
      "Epoch: 202/14999 | Loss: 0.0073 | Episodes: 8 | Win count: 118 | Win rate: 0.584 | time: 256.9 seconds\n",
      "Epoch: 203/14999 | Loss: 0.0512 | Episodes: 47 | Win count: 119 | Win rate: 0.586 | time: 260.8 seconds\n",
      "Epoch: 204/14999 | Loss: 0.0360 | Episodes: 29 | Win count: 120 | Win rate: 0.588 | time: 263.3 seconds\n",
      "Epoch: 205/14999 | Loss: 0.0346 | Episodes: 32 | Win count: 121 | Win rate: 0.590 | time: 266.0 seconds\n",
      "Epoch: 206/14999 | Loss: 0.0276 | Episodes: 24 | Win count: 122 | Win rate: 0.592 | time: 268.1 seconds\n",
      "Epoch: 207/14999 | Loss: 0.0314 | Episodes: 24 | Win count: 123 | Win rate: 0.594 | time: 270.1 seconds\n",
      "Epoch: 208/14999 | Loss: 0.0164 | Episodes: 12 | Win count: 124 | Win rate: 0.596 | time: 271.2 seconds\n",
      "Epoch: 209/14999 | Loss: 0.0162 | Episodes: 14 | Win count: 125 | Win rate: 0.598 | time: 272.4 seconds\n",
      "Epoch: 210/14999 | Loss: 0.0108 | Episodes: 12 | Win count: 126 | Win rate: 0.600 | time: 273.5 seconds\n",
      "Epoch: 211/14999 | Loss: 0.0602 | Episodes: 64 | Win count: 127 | Win rate: 0.602 | time: 278.8 seconds\n",
      "Epoch: 212/14999 | Loss: 0.0396 | Episodes: 38 | Win count: 128 | Win rate: 0.604 | time: 282.0 seconds\n",
      "Reached 100% win rate at epoch: 212\n",
      "n_epoch: 212, max_mem: 512, data: 32, time: 282.5 seconds\n"
     ]
    },
    {
     "data": {
      "text/plain": [
       "282.507008"
      ]
     },
     "execution_count": 273,
     "metadata": {},
     "output_type": "execute_result"
    }
   ],
   "source": [
    "model = build_model(maze)\n",
    "qtrain(model, maze, epochs=1000, max_memory=8*maze.size, data_size=32)"
   ]
  },
  {
   "cell_type": "markdown",
   "metadata": {},
   "source": [
    "This cell will check to see if the model passes the completion check. Note: This could take several minutes."
   ]
  },
  {
   "cell_type": "code",
   "execution_count": 274,
   "metadata": {},
   "outputs": [
    {
     "data": {
      "text/plain": [
       "<matplotlib.image.AxesImage at 0x1e4e2c97dc8>"
      ]
     },
     "execution_count": 274,
     "metadata": {},
     "output_type": "execute_result"
    },
    {
     "data": {
      "image/png": "[encoded data removed]",
      "text/plain": [
       "<Figure size 432x288 with 1 Axes>"
      ]
     },
     "metadata": {
      "needs_background": "light"
     },
     "output_type": "display_data"
    }
   ],
   "source": [
    "completion_check(model, qmaze)\n",
    "show(qmaze)"
   ]
  },
  {
   "cell_type": "markdown",
   "metadata": {},
   "source": [
    "This cell will test your model for one game. It will start the pirate at the top-left corner and run play_game. The agent should find a path from the starting position to the target (treasure). The treasure is located in the bottom-right corner."
   ]
  },
  {
   "cell_type": "code",
   "execution_count": 275,
   "metadata": {},
   "outputs": [
    {
     "data": {
      "text/plain": [
       "<matplotlib.image.AxesImage at 0x1e4d6c1c248>"
      ]
     },
     "execution_count": 275,
     "metadata": {},
     "output_type": "execute_result"
    },
    {
     "data": {
      "image/png": "[encoded data removed]",
      "text/plain": [
       "<Figure size 432x288 with 1 Axes>"
      ]
     },
     "metadata": {
      "needs_background": "light"
     },
     "output_type": "display_data"
    }
   ],
   "source": [
    "pirate_start = (0, 0)\n",
    "play_game(model, qmaze, pirate_start)\n",
    "show(qmaze)"
   ]
  },
  {
   "cell_type": "markdown",
   "metadata": {},
   "source": [
    "## Save and Submit Your Work\n",
    "After you have finished creating the code for your notebook, save your work. Make sure that your notebook contains your name in the filename (e.g. Doe_Jane_ProjectTwo.ipynb). This will help your instructor access and grade your work easily. Download a copy of your IPYNB file and submit it to Brightspace. Refer to the Jupyter Notebook in Apporto Tutorial if you need help with these tasks."
   ]
  },
  {
   "cell_type": "code",
   "execution_count": null,
   "metadata": {},
   "outputs": [],
   "source": []
  }
 ],
 "metadata": {
  "kernelspec": {
   "display_name": "Python 3",
   "language": "python",
   "name": "python3"
  },
  "language_info": {
   "codemirror_mode": {
    "name": "ipython",
    "version": 3
   },
   "file_extension": ".py",
   "mimetype": "text/x-python",
   "name": "python",
   "nbconvert_exporter": "python",
   "pygments_lexer": "ipython3",
   "version": "3.7.4"
  }
 },
 "nbformat": 4,
 "nbformat_minor": 2
}
